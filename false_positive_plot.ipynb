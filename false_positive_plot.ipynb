{
 "cells": [
  {
   "cell_type": "code",
   "execution_count": 1,
   "metadata": {
    "collapsed": true
   },
   "outputs": [],
   "source": [
    "import matplotlib.pyplot as plt\n",
    "import numpy as np"
   ]
  },
  {
   "cell_type": "code",
   "execution_count": 89,
   "metadata": {},
   "outputs": [],
   "source": [
    "N = 11\n",
    "\n",
    "N2 = 5\n",
    "\n",
    "numbers = np.array([(13./222.), (13./222.), 0., (16./261.), (16./261.), 0., (16./261.), (16./261.), 0., (16./261.), (16./261.)])\n",
    "numbers2 = np.array([(102801./149273.), (102801./149273.), 0., (102801./149273.), (102801./149273.)])\n",
    "\n",
    "ind = np.arange(N)\n",
    "ind1 = np.arange(N2) + 12\n",
    "width = 1.0\n",
    "\n",
    "fig, ax = plt.subplots()\n",
    "fig.set_size_inches(6., 4.)\n",
    "plt.gcf().subplots_adjust(bottom=0.2)\n",
    "plt.gcf().subplots_adjust(right=0.98)\n",
    "plt.gcf().subplots_adjust(left=0.11)\n",
    "plt.gcf().subplots_adjust(top=0.95)\n",
    "\n",
    "#for i1, v1 in enumerate(numbers):\n",
    "#    ax.text(v1 + 3, i1 + .025, str(v1), color='blue', fontweight='bold')\n",
    "#ax.text(0.5, 0.0775,'113\\n',color='black',fontweight='bold',horizontalalignment='center')\n",
    "#ax.text(3.5, 0.0775,'75\\n',color='black',fontweight='bold',horizontalalignment='center')\n",
    "#ax.text(6.5, 0.0775,'1025\\n',color='black',fontweight='bold',horizontalalignment='center')\n",
    "#ax.text(9.5, 0.0775,'37\\n',color='black',fontweight='bold',horizontalalignment='center')\n",
    "#ax.text(12.5, 0.7475,'133980\\n',color='black',fontweight='bold',horizontalalignment='center')\n",
    "#ax.text(15.5, 0.9285,'4255\\n',color='black',fontweight='bold',horizontalalignment='center')\n",
    "\n",
    "\n",
    "ax.text(0.5, 0.065,'113',color='black',fontweight='bold',horizontalalignment='center')\n",
    "ax.text(3.5, 0.069,'75',color='black',fontweight='bold',horizontalalignment='center')\n",
    "ax.text(6.5, 0.069,'1025',color='black',fontweight='bold',horizontalalignment='center')\n",
    "ax.text(9.5, 0.069,'37',color='black',fontweight='bold',horizontalalignment='center')\n",
    "ax.text(12.5, 0.6925,'133980',color='black',fontweight='bold',horizontalalignment='center')\n",
    "ax.text(15.5, 0.6925,'4255',color='black',fontweight='bold',horizontalalignment='center')\n",
    "\n",
    "#ax.text(0.5, 0.0775,'7',fontweight='bold',color='C0',horizontalalignment='center')\n",
    "#ax.text(3.5, 0.0775,'5',fontweight='bold',color='C0',horizontalalignment='center')\n",
    "#ax.text(6.5, 0.0775,'64',fontweight='bold',color='C0',horizontalalignment='center')\n",
    "#ax.text(9.5, 0.0775,'2',fontweight='bold',color='C0',horizontalalignment='center')\n",
    "#ax.text(12.5, 0.7475,'99145',fontweight='bold',color='C1',horizontalalignment='center')\n",
    "#ax.text(15.5, 0.9285,'3919',fontweight='bold',color='C1',horizontalalignment='center')\n",
    "\n",
    "\n",
    "rects1 = ax.bar(ind, numbers, width)\n",
    "rects2 = ax.bar(ind1, numbers2, width)\n",
    "\n",
    "ax.set_xticks([0.5, 3.5, 6.5, 9.5, 12.5, 15.5])\n",
    "ax.set_xticklabels(('Patel+\\n2014', 'Wu+\\n2013', 'Cotten\\nSong\\n2016','Kuchner+\\n2016\\n(DD Paper 1)','Marton+\\n2016','McDonald+\\n2017'))\n",
    "\n",
    "ax.set_xlabel('Survey',fontsize=14)\n",
    "ax.set_ylabel('False Positive Fraction',fontsize=14)\n",
    "ax.set_ylim([0.,0.75])\n",
    "\n",
    "#rects1.get_children()[0].set_color('co1')\n",
    "#rects1.get_children()[1].set_color('co1')\n",
    "#rects1.get_children()[3].set_color('co1')\n",
    "#rects1.get_children()[4].set_color('co1')\n",
    "#rects1.get_children()[6].set_color('co1')\n",
    "#rects1.get_children()[7].set_color('co1')\n",
    "#rects1.get_children()[9].set_color('co1')\n",
    "#rects1.get_children()[10].set_color('co1')\n",
    "\n",
    "plt.savefig('False_Positive_Fraction.pdf')\n",
    "plt.savefig('False_Positive_Fraction.png')\n",
    "#plt.show()"
   ]
  }
 ],
 "metadata": {
  "kernelspec": {
   "display_name": "Python 2",
   "language": "python",
   "name": "python2"
  },
  "language_info": {
   "codemirror_mode": {
    "name": "ipython",
    "version": 2
   },
   "file_extension": ".py",
   "mimetype": "text/x-python",
   "name": "python",
   "nbconvert_exporter": "python",
   "pygments_lexer": "ipython2",
   "version": "2.7.14"
  }
 },
 "nbformat": 4,
 "nbformat_minor": 2
}
